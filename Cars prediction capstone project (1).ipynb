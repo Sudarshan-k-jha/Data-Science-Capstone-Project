{
 "cells": [
  {
   "cell_type": "code",
   "execution_count": 1,
   "id": "c2dc20ab",
   "metadata": {},
   "outputs": [],
   "source": [
    "import numpy as np\n",
    "import pandas as pd\n",
    "import matplotlib.pyplot as plt"
   ]
  },
  {
   "cell_type": "code",
   "execution_count": 2,
   "id": "409eff79",
   "metadata": {},
   "outputs": [],
   "source": [
    "df=pd.read_csv('CAR DETAILS.csv')"
   ]
  },
  {
   "cell_type": "code",
   "execution_count": 3,
   "id": "8d990c22",
   "metadata": {},
   "outputs": [
    {
     "data": {
      "text/html": [
       "<div>\n",
       "<style scoped>\n",
       "    .dataframe tbody tr th:only-of-type {\n",
       "        vertical-align: middle;\n",
       "    }\n",
       "\n",
       "    .dataframe tbody tr th {\n",
       "        vertical-align: top;\n",
       "    }\n",
       "\n",
       "    .dataframe thead th {\n",
       "        text-align: right;\n",
       "    }\n",
       "</style>\n",
       "<table border=\"1\" class=\"dataframe\">\n",
       "  <thead>\n",
       "    <tr style=\"text-align: right;\">\n",
       "      <th></th>\n",
       "      <th>name</th>\n",
       "      <th>year</th>\n",
       "      <th>selling_price</th>\n",
       "      <th>km_driven</th>\n",
       "      <th>fuel</th>\n",
       "      <th>seller_type</th>\n",
       "      <th>transmission</th>\n",
       "      <th>owner</th>\n",
       "    </tr>\n",
       "  </thead>\n",
       "  <tbody>\n",
       "    <tr>\n",
       "      <th>0</th>\n",
       "      <td>Maruti 800 AC</td>\n",
       "      <td>2007</td>\n",
       "      <td>60000</td>\n",
       "      <td>70000</td>\n",
       "      <td>Petrol</td>\n",
       "      <td>Individual</td>\n",
       "      <td>Manual</td>\n",
       "      <td>First Owner</td>\n",
       "    </tr>\n",
       "    <tr>\n",
       "      <th>1</th>\n",
       "      <td>Maruti Wagon R LXI Minor</td>\n",
       "      <td>2007</td>\n",
       "      <td>135000</td>\n",
       "      <td>50000</td>\n",
       "      <td>Petrol</td>\n",
       "      <td>Individual</td>\n",
       "      <td>Manual</td>\n",
       "      <td>First Owner</td>\n",
       "    </tr>\n",
       "    <tr>\n",
       "      <th>2</th>\n",
       "      <td>Hyundai Verna 1.6 SX</td>\n",
       "      <td>2012</td>\n",
       "      <td>600000</td>\n",
       "      <td>100000</td>\n",
       "      <td>Diesel</td>\n",
       "      <td>Individual</td>\n",
       "      <td>Manual</td>\n",
       "      <td>First Owner</td>\n",
       "    </tr>\n",
       "    <tr>\n",
       "      <th>3</th>\n",
       "      <td>Datsun RediGO T Option</td>\n",
       "      <td>2017</td>\n",
       "      <td>250000</td>\n",
       "      <td>46000</td>\n",
       "      <td>Petrol</td>\n",
       "      <td>Individual</td>\n",
       "      <td>Manual</td>\n",
       "      <td>First Owner</td>\n",
       "    </tr>\n",
       "    <tr>\n",
       "      <th>4</th>\n",
       "      <td>Honda Amaze VX i-DTEC</td>\n",
       "      <td>2014</td>\n",
       "      <td>450000</td>\n",
       "      <td>141000</td>\n",
       "      <td>Diesel</td>\n",
       "      <td>Individual</td>\n",
       "      <td>Manual</td>\n",
       "      <td>Second Owner</td>\n",
       "    </tr>\n",
       "  </tbody>\n",
       "</table>\n",
       "</div>"
      ],
      "text/plain": [
       "                       name  year  selling_price  km_driven    fuel  \\\n",
       "0             Maruti 800 AC  2007          60000      70000  Petrol   \n",
       "1  Maruti Wagon R LXI Minor  2007         135000      50000  Petrol   \n",
       "2      Hyundai Verna 1.6 SX  2012         600000     100000  Diesel   \n",
       "3    Datsun RediGO T Option  2017         250000      46000  Petrol   \n",
       "4     Honda Amaze VX i-DTEC  2014         450000     141000  Diesel   \n",
       "\n",
       "  seller_type transmission         owner  \n",
       "0  Individual       Manual   First Owner  \n",
       "1  Individual       Manual   First Owner  \n",
       "2  Individual       Manual   First Owner  \n",
       "3  Individual       Manual   First Owner  \n",
       "4  Individual       Manual  Second Owner  "
      ]
     },
     "execution_count": 3,
     "metadata": {},
     "output_type": "execute_result"
    }
   ],
   "source": [
    "df.head(5)"
   ]
  },
  {
   "cell_type": "code",
   "execution_count": 4,
   "id": "f9e42655",
   "metadata": {},
   "outputs": [
    {
     "data": {
      "text/html": [
       "<div>\n",
       "<style scoped>\n",
       "    .dataframe tbody tr th:only-of-type {\n",
       "        vertical-align: middle;\n",
       "    }\n",
       "\n",
       "    .dataframe tbody tr th {\n",
       "        vertical-align: top;\n",
       "    }\n",
       "\n",
       "    .dataframe thead th {\n",
       "        text-align: right;\n",
       "    }\n",
       "</style>\n",
       "<table border=\"1\" class=\"dataframe\">\n",
       "  <thead>\n",
       "    <tr style=\"text-align: right;\">\n",
       "      <th></th>\n",
       "      <th>name</th>\n",
       "      <th>year</th>\n",
       "      <th>selling_price</th>\n",
       "      <th>km_driven</th>\n",
       "      <th>fuel</th>\n",
       "      <th>seller_type</th>\n",
       "      <th>transmission</th>\n",
       "      <th>owner</th>\n",
       "    </tr>\n",
       "  </thead>\n",
       "  <tbody>\n",
       "    <tr>\n",
       "      <th>4335</th>\n",
       "      <td>Hyundai i20 Magna 1.4 CRDi (Diesel)</td>\n",
       "      <td>2014</td>\n",
       "      <td>409999</td>\n",
       "      <td>80000</td>\n",
       "      <td>Diesel</td>\n",
       "      <td>Individual</td>\n",
       "      <td>Manual</td>\n",
       "      <td>Second Owner</td>\n",
       "    </tr>\n",
       "    <tr>\n",
       "      <th>4336</th>\n",
       "      <td>Hyundai i20 Magna 1.4 CRDi</td>\n",
       "      <td>2014</td>\n",
       "      <td>409999</td>\n",
       "      <td>80000</td>\n",
       "      <td>Diesel</td>\n",
       "      <td>Individual</td>\n",
       "      <td>Manual</td>\n",
       "      <td>Second Owner</td>\n",
       "    </tr>\n",
       "    <tr>\n",
       "      <th>4337</th>\n",
       "      <td>Maruti 800 AC BSIII</td>\n",
       "      <td>2009</td>\n",
       "      <td>110000</td>\n",
       "      <td>83000</td>\n",
       "      <td>Petrol</td>\n",
       "      <td>Individual</td>\n",
       "      <td>Manual</td>\n",
       "      <td>Second Owner</td>\n",
       "    </tr>\n",
       "    <tr>\n",
       "      <th>4338</th>\n",
       "      <td>Hyundai Creta 1.6 CRDi SX Option</td>\n",
       "      <td>2016</td>\n",
       "      <td>865000</td>\n",
       "      <td>90000</td>\n",
       "      <td>Diesel</td>\n",
       "      <td>Individual</td>\n",
       "      <td>Manual</td>\n",
       "      <td>First Owner</td>\n",
       "    </tr>\n",
       "    <tr>\n",
       "      <th>4339</th>\n",
       "      <td>Renault KWID RXT</td>\n",
       "      <td>2016</td>\n",
       "      <td>225000</td>\n",
       "      <td>40000</td>\n",
       "      <td>Petrol</td>\n",
       "      <td>Individual</td>\n",
       "      <td>Manual</td>\n",
       "      <td>First Owner</td>\n",
       "    </tr>\n",
       "  </tbody>\n",
       "</table>\n",
       "</div>"
      ],
      "text/plain": [
       "                                     name  year  selling_price  km_driven  \\\n",
       "4335  Hyundai i20 Magna 1.4 CRDi (Diesel)  2014         409999      80000   \n",
       "4336           Hyundai i20 Magna 1.4 CRDi  2014         409999      80000   \n",
       "4337                  Maruti 800 AC BSIII  2009         110000      83000   \n",
       "4338     Hyundai Creta 1.6 CRDi SX Option  2016         865000      90000   \n",
       "4339                     Renault KWID RXT  2016         225000      40000   \n",
       "\n",
       "        fuel seller_type transmission         owner  \n",
       "4335  Diesel  Individual       Manual  Second Owner  \n",
       "4336  Diesel  Individual       Manual  Second Owner  \n",
       "4337  Petrol  Individual       Manual  Second Owner  \n",
       "4338  Diesel  Individual       Manual   First Owner  \n",
       "4339  Petrol  Individual       Manual   First Owner  "
      ]
     },
     "execution_count": 4,
     "metadata": {},
     "output_type": "execute_result"
    }
   ],
   "source": [
    "df.tail(5)"
   ]
  },
  {
   "cell_type": "code",
   "execution_count": 5,
   "id": "884738cd",
   "metadata": {},
   "outputs": [
    {
     "data": {
      "text/plain": [
       "name             0\n",
       "year             0\n",
       "selling_price    0\n",
       "km_driven        0\n",
       "fuel             0\n",
       "seller_type      0\n",
       "transmission     0\n",
       "owner            0\n",
       "dtype: int64"
      ]
     },
     "execution_count": 5,
     "metadata": {},
     "output_type": "execute_result"
    }
   ],
   "source": [
    "df.isnull().sum()"
   ]
  },
  {
   "cell_type": "code",
   "execution_count": 6,
   "id": "06902ec7",
   "metadata": {},
   "outputs": [
    {
     "data": {
      "text/plain": [
       "Diesel      2153\n",
       "Petrol      2123\n",
       "CNG           40\n",
       "LPG           23\n",
       "Electric       1\n",
       "Name: fuel, dtype: int64"
      ]
     },
     "execution_count": 6,
     "metadata": {},
     "output_type": "execute_result"
    }
   ],
   "source": [
    "df['fuel'].value_counts()"
   ]
  },
  {
   "cell_type": "code",
   "execution_count": 7,
   "id": "786e67d3",
   "metadata": {},
   "outputs": [
    {
     "data": {
      "text/plain": [
       "Individual          3244\n",
       "Dealer               994\n",
       "Trustmark Dealer     102\n",
       "Name: seller_type, dtype: int64"
      ]
     },
     "execution_count": 7,
     "metadata": {},
     "output_type": "execute_result"
    }
   ],
   "source": [
    "df['seller_type'].value_counts()"
   ]
  },
  {
   "cell_type": "code",
   "execution_count": 8,
   "id": "a9f36fc8",
   "metadata": {},
   "outputs": [
    {
     "data": {
      "text/plain": [
       "Manual       3892\n",
       "Automatic     448\n",
       "Name: transmission, dtype: int64"
      ]
     },
     "execution_count": 8,
     "metadata": {},
     "output_type": "execute_result"
    }
   ],
   "source": [
    "df['transmission'].value_counts()"
   ]
  },
  {
   "cell_type": "code",
   "execution_count": 9,
   "id": "b8c15ff3",
   "metadata": {},
   "outputs": [
    {
     "data": {
      "text/plain": [
       "First Owner             2832\n",
       "Second Owner            1106\n",
       "Third Owner              304\n",
       "Fourth & Above Owner      81\n",
       "Test Drive Car            17\n",
       "Name: owner, dtype: int64"
      ]
     },
     "execution_count": 9,
     "metadata": {},
     "output_type": "execute_result"
    }
   ],
   "source": [
    "df['owner'].value_counts()"
   ]
  },
  {
   "cell_type": "code",
   "execution_count": 10,
   "id": "29a05158",
   "metadata": {},
   "outputs": [
    {
     "data": {
      "text/html": [
       "<div>\n",
       "<style scoped>\n",
       "    .dataframe tbody tr th:only-of-type {\n",
       "        vertical-align: middle;\n",
       "    }\n",
       "\n",
       "    .dataframe tbody tr th {\n",
       "        vertical-align: top;\n",
       "    }\n",
       "\n",
       "    .dataframe thead th {\n",
       "        text-align: right;\n",
       "    }\n",
       "</style>\n",
       "<table border=\"1\" class=\"dataframe\">\n",
       "  <thead>\n",
       "    <tr style=\"text-align: right;\">\n",
       "      <th></th>\n",
       "      <th>year</th>\n",
       "      <th>selling_price</th>\n",
       "      <th>km_driven</th>\n",
       "    </tr>\n",
       "  </thead>\n",
       "  <tbody>\n",
       "    <tr>\n",
       "      <th>count</th>\n",
       "      <td>4340.000000</td>\n",
       "      <td>4.340000e+03</td>\n",
       "      <td>4340.000000</td>\n",
       "    </tr>\n",
       "    <tr>\n",
       "      <th>mean</th>\n",
       "      <td>2013.090783</td>\n",
       "      <td>5.041273e+05</td>\n",
       "      <td>66215.777419</td>\n",
       "    </tr>\n",
       "    <tr>\n",
       "      <th>std</th>\n",
       "      <td>4.215344</td>\n",
       "      <td>5.785487e+05</td>\n",
       "      <td>46644.102194</td>\n",
       "    </tr>\n",
       "    <tr>\n",
       "      <th>min</th>\n",
       "      <td>1992.000000</td>\n",
       "      <td>2.000000e+04</td>\n",
       "      <td>1.000000</td>\n",
       "    </tr>\n",
       "    <tr>\n",
       "      <th>25%</th>\n",
       "      <td>2011.000000</td>\n",
       "      <td>2.087498e+05</td>\n",
       "      <td>35000.000000</td>\n",
       "    </tr>\n",
       "    <tr>\n",
       "      <th>50%</th>\n",
       "      <td>2014.000000</td>\n",
       "      <td>3.500000e+05</td>\n",
       "      <td>60000.000000</td>\n",
       "    </tr>\n",
       "    <tr>\n",
       "      <th>75%</th>\n",
       "      <td>2016.000000</td>\n",
       "      <td>6.000000e+05</td>\n",
       "      <td>90000.000000</td>\n",
       "    </tr>\n",
       "    <tr>\n",
       "      <th>max</th>\n",
       "      <td>2020.000000</td>\n",
       "      <td>8.900000e+06</td>\n",
       "      <td>806599.000000</td>\n",
       "    </tr>\n",
       "  </tbody>\n",
       "</table>\n",
       "</div>"
      ],
      "text/plain": [
       "              year  selling_price      km_driven\n",
       "count  4340.000000   4.340000e+03    4340.000000\n",
       "mean   2013.090783   5.041273e+05   66215.777419\n",
       "std       4.215344   5.785487e+05   46644.102194\n",
       "min    1992.000000   2.000000e+04       1.000000\n",
       "25%    2011.000000   2.087498e+05   35000.000000\n",
       "50%    2014.000000   3.500000e+05   60000.000000\n",
       "75%    2016.000000   6.000000e+05   90000.000000\n",
       "max    2020.000000   8.900000e+06  806599.000000"
      ]
     },
     "execution_count": 10,
     "metadata": {},
     "output_type": "execute_result"
    }
   ],
   "source": [
    "df.describe()"
   ]
  },
  {
   "cell_type": "code",
   "execution_count": 11,
   "id": "20b58e61",
   "metadata": {},
   "outputs": [
    {
     "name": "stdout",
     "output_type": "stream",
     "text": [
      "<class 'pandas.core.frame.DataFrame'>\n",
      "RangeIndex: 4340 entries, 0 to 4339\n",
      "Data columns (total 8 columns):\n",
      " #   Column         Non-Null Count  Dtype \n",
      "---  ------         --------------  ----- \n",
      " 0   name           4340 non-null   object\n",
      " 1   year           4340 non-null   int64 \n",
      " 2   selling_price  4340 non-null   int64 \n",
      " 3   km_driven      4340 non-null   int64 \n",
      " 4   fuel           4340 non-null   object\n",
      " 5   seller_type    4340 non-null   object\n",
      " 6   transmission   4340 non-null   object\n",
      " 7   owner          4340 non-null   object\n",
      "dtypes: int64(3), object(5)\n",
      "memory usage: 271.4+ KB\n"
     ]
    }
   ],
   "source": [
    "df.info()"
   ]
  },
  {
   "cell_type": "code",
   "execution_count": 12,
   "id": "22e39a30",
   "metadata": {},
   "outputs": [
    {
     "data": {
      "text/plain": [
       "array(['Maruti 800 AC', 'Maruti Wagon R LXI Minor',\n",
       "       'Hyundai Verna 1.6 SX', ..., 'Mahindra Verito 1.5 D6 BSIII',\n",
       "       'Toyota Innova 2.5 VX (Diesel) 8 Seater BS IV',\n",
       "       'Hyundai i20 Magna 1.4 CRDi'], dtype=object)"
      ]
     },
     "execution_count": 12,
     "metadata": {},
     "output_type": "execute_result"
    }
   ],
   "source": [
    "df['name'].unique()"
   ]
  },
  {
   "cell_type": "code",
   "execution_count": 13,
   "id": "d933fcd6",
   "metadata": {},
   "outputs": [
    {
     "data": {
      "text/html": [
       "<div>\n",
       "<style scoped>\n",
       "    .dataframe tbody tr th:only-of-type {\n",
       "        vertical-align: middle;\n",
       "    }\n",
       "\n",
       "    .dataframe tbody tr th {\n",
       "        vertical-align: top;\n",
       "    }\n",
       "\n",
       "    .dataframe thead th {\n",
       "        text-align: right;\n",
       "    }\n",
       "</style>\n",
       "<table border=\"1\" class=\"dataframe\">\n",
       "  <thead>\n",
       "    <tr style=\"text-align: right;\">\n",
       "      <th></th>\n",
       "      <th>year</th>\n",
       "      <th>selling_price</th>\n",
       "      <th>km_driven</th>\n",
       "    </tr>\n",
       "  </thead>\n",
       "  <tbody>\n",
       "    <tr>\n",
       "      <th>year</th>\n",
       "      <td>1.000000</td>\n",
       "      <td>0.413922</td>\n",
       "      <td>-0.419688</td>\n",
       "    </tr>\n",
       "    <tr>\n",
       "      <th>selling_price</th>\n",
       "      <td>0.413922</td>\n",
       "      <td>1.000000</td>\n",
       "      <td>-0.192289</td>\n",
       "    </tr>\n",
       "    <tr>\n",
       "      <th>km_driven</th>\n",
       "      <td>-0.419688</td>\n",
       "      <td>-0.192289</td>\n",
       "      <td>1.000000</td>\n",
       "    </tr>\n",
       "  </tbody>\n",
       "</table>\n",
       "</div>"
      ],
      "text/plain": [
       "                   year  selling_price  km_driven\n",
       "year           1.000000       0.413922  -0.419688\n",
       "selling_price  0.413922       1.000000  -0.192289\n",
       "km_driven     -0.419688      -0.192289   1.000000"
      ]
     },
     "execution_count": 13,
     "metadata": {},
     "output_type": "execute_result"
    }
   ],
   "source": [
    "df.corr()"
   ]
  },
  {
   "cell_type": "markdown",
   "id": "e26a7823",
   "metadata": {},
   "source": [
    "### Performing EDA on the dataset"
   ]
  },
  {
   "cell_type": "code",
   "execution_count": 14,
   "id": "447999b7",
   "metadata": {},
   "outputs": [],
   "source": [
    "import matplotlib.pyplot as plt\n",
    "import seaborn as sns"
   ]
  },
  {
   "cell_type": "code",
   "execution_count": 15,
   "id": "567dcb8c",
   "metadata": {},
   "outputs": [
    {
     "data": {
      "text/plain": [
       "<AxesSubplot:>"
      ]
     },
     "execution_count": 15,
     "metadata": {},
     "output_type": "execute_result"
    },
    {
     "data": {
      "image/png": "[encoded data removed]",
      "text/plain": [
       "<Figure size 432x288 with 2 Axes>"
      ]
     },
     "metadata": {
      "needs_background": "light"
     },
     "output_type": "display_data"
    }
   ],
   "source": [
    "sns.heatmap(df.corr())"
   ]
  },
  {
   "cell_type": "code",
   "execution_count": 16,
   "id": "3bf1dee3",
   "metadata": {},
   "outputs": [
    {
     "data": {
      "text/plain": [
       "<matplotlib.collections.PathCollection at 0x1d1b5001400>"
      ]
     },
     "execution_count": 16,
     "metadata": {},
     "output_type": "execute_result"
    },
    {
     "data": {
      "image/png": "[encoded data removed]",
      "text/plain": [
       "<Figure size 432x288 with 1 Axes>"
      ]
     },
     "metadata": {
      "needs_background": "light"
     },
     "output_type": "display_data"
    }
   ],
   "source": [
    "plt.scatter(df['selling_price'],df['year'])"
   ]
  },
  {
   "cell_type": "markdown",
   "id": "95c765e7",
   "metadata": {},
   "source": [
    "### Performing data preprocessing"
   ]
  },
  {
   "cell_type": "code",
   "execution_count": 19,
   "id": "0030cd58",
   "metadata": {},
   "outputs": [
    {
     "data": {
      "text/plain": [
       "Maruti Swift Dzire VDI                     69\n",
       "Maruti Alto 800 LXI                        59\n",
       "Maruti Alto LXi                            47\n",
       "Maruti Alto LX                             35\n",
       "Hyundai EON Era Plus                       35\n",
       "                                           ..\n",
       "Hyundai Verna Transform CRDi VGT SX ABS     1\n",
       "Maruti S-Presso VXI Plus                    1\n",
       "Toyota Etios Liva 1.2 VX                    1\n",
       "Toyota Yaris G                              1\n",
       "Hyundai i20 Magna 1.4 CRDi                  1\n",
       "Name: name, Length: 1491, dtype: int64"
      ]
     },
     "execution_count": 19,
     "metadata": {},
     "output_type": "execute_result"
    }
   ],
   "source": [
    "df1=df.copy()\n",
    "df1.head()\n",
    "df1['name'].value_counts()"
   ]
  },
  {
   "cell_type": "code",
   "execution_count": 20,
   "id": "439ec7b0",
   "metadata": {},
   "outputs": [],
   "source": [
    "from sklearn.preprocessing import LabelEncoder\n",
    "lb = LabelEncoder()\n",
    "enc_list = ['fuel','seller_type','transmission','owner']\n",
    "for i in enc_list:\n",
    "    df1[i] = lb.fit_transform(df1[i])"
   ]
  },
  {
   "cell_type": "code",
   "execution_count": 21,
   "id": "1a3f30a9",
   "metadata": {},
   "outputs": [
    {
     "data": {
      "text/html": [
       "<div>\n",
       "<style scoped>\n",
       "    .dataframe tbody tr th:only-of-type {\n",
       "        vertical-align: middle;\n",
       "    }\n",
       "\n",
       "    .dataframe tbody tr th {\n",
       "        vertical-align: top;\n",
       "    }\n",
       "\n",
       "    .dataframe thead th {\n",
       "        text-align: right;\n",
       "    }\n",
       "</style>\n",
       "<table border=\"1\" class=\"dataframe\">\n",
       "  <thead>\n",
       "    <tr style=\"text-align: right;\">\n",
       "      <th></th>\n",
       "      <th>name</th>\n",
       "      <th>year</th>\n",
       "      <th>selling_price</th>\n",
       "      <th>km_driven</th>\n",
       "      <th>fuel</th>\n",
       "      <th>seller_type</th>\n",
       "      <th>transmission</th>\n",
       "      <th>owner</th>\n",
       "    </tr>\n",
       "  </thead>\n",
       "  <tbody>\n",
       "    <tr>\n",
       "      <th>0</th>\n",
       "      <td>Maruti 800 AC</td>\n",
       "      <td>2007</td>\n",
       "      <td>60000</td>\n",
       "      <td>70000</td>\n",
       "      <td>4</td>\n",
       "      <td>1</td>\n",
       "      <td>1</td>\n",
       "      <td>0</td>\n",
       "    </tr>\n",
       "    <tr>\n",
       "      <th>1</th>\n",
       "      <td>Maruti Wagon R LXI Minor</td>\n",
       "      <td>2007</td>\n",
       "      <td>135000</td>\n",
       "      <td>50000</td>\n",
       "      <td>4</td>\n",
       "      <td>1</td>\n",
       "      <td>1</td>\n",
       "      <td>0</td>\n",
       "    </tr>\n",
       "    <tr>\n",
       "      <th>2</th>\n",
       "      <td>Hyundai Verna 1.6 SX</td>\n",
       "      <td>2012</td>\n",
       "      <td>600000</td>\n",
       "      <td>100000</td>\n",
       "      <td>1</td>\n",
       "      <td>1</td>\n",
       "      <td>1</td>\n",
       "      <td>0</td>\n",
       "    </tr>\n",
       "    <tr>\n",
       "      <th>3</th>\n",
       "      <td>Datsun RediGO T Option</td>\n",
       "      <td>2017</td>\n",
       "      <td>250000</td>\n",
       "      <td>46000</td>\n",
       "      <td>4</td>\n",
       "      <td>1</td>\n",
       "      <td>1</td>\n",
       "      <td>0</td>\n",
       "    </tr>\n",
       "    <tr>\n",
       "      <th>4</th>\n",
       "      <td>Honda Amaze VX i-DTEC</td>\n",
       "      <td>2014</td>\n",
       "      <td>450000</td>\n",
       "      <td>141000</td>\n",
       "      <td>1</td>\n",
       "      <td>1</td>\n",
       "      <td>1</td>\n",
       "      <td>2</td>\n",
       "    </tr>\n",
       "  </tbody>\n",
       "</table>\n",
       "</div>"
      ],
      "text/plain": [
       "                       name  year  selling_price  km_driven  fuel  \\\n",
       "0             Maruti 800 AC  2007          60000      70000     4   \n",
       "1  Maruti Wagon R LXI Minor  2007         135000      50000     4   \n",
       "2      Hyundai Verna 1.6 SX  2012         600000     100000     1   \n",
       "3    Datsun RediGO T Option  2017         250000      46000     4   \n",
       "4     Honda Amaze VX i-DTEC  2014         450000     141000     1   \n",
       "\n",
       "   seller_type  transmission  owner  \n",
       "0            1             1      0  \n",
       "1            1             1      0  \n",
       "2            1             1      0  \n",
       "3            1             1      0  \n",
       "4            1             1      2  "
      ]
     },
     "execution_count": 21,
     "metadata": {},
     "output_type": "execute_result"
    }
   ],
   "source": [
    "df1.head()"
   ]
  },
  {
   "cell_type": "markdown",
   "id": "f3e6552b",
   "metadata": {},
   "source": [
    "### Data cleaning"
   ]
  },
  {
   "cell_type": "code",
   "execution_count": 22,
   "id": "1489cfd0",
   "metadata": {},
   "outputs": [],
   "source": [
    "df1['name'] = df['name'].apply(lambda x:\" \".join(x.split()[0:2]))"
   ]
  },
  {
   "cell_type": "code",
   "execution_count": 23,
   "id": "02f5c4f5",
   "metadata": {},
   "outputs": [
    {
     "data": {
      "text/html": [
       "<div>\n",
       "<style scoped>\n",
       "    .dataframe tbody tr th:only-of-type {\n",
       "        vertical-align: middle;\n",
       "    }\n",
       "\n",
       "    .dataframe tbody tr th {\n",
       "        vertical-align: top;\n",
       "    }\n",
       "\n",
       "    .dataframe thead th {\n",
       "        text-align: right;\n",
       "    }\n",
       "</style>\n",
       "<table border=\"1\" class=\"dataframe\">\n",
       "  <thead>\n",
       "    <tr style=\"text-align: right;\">\n",
       "      <th></th>\n",
       "      <th>name</th>\n",
       "      <th>year</th>\n",
       "      <th>selling_price</th>\n",
       "      <th>km_driven</th>\n",
       "      <th>fuel</th>\n",
       "      <th>seller_type</th>\n",
       "      <th>transmission</th>\n",
       "      <th>owner</th>\n",
       "    </tr>\n",
       "  </thead>\n",
       "  <tbody>\n",
       "    <tr>\n",
       "      <th>0</th>\n",
       "      <td>Maruti 800</td>\n",
       "      <td>2007</td>\n",
       "      <td>60000</td>\n",
       "      <td>70000</td>\n",
       "      <td>4</td>\n",
       "      <td>1</td>\n",
       "      <td>1</td>\n",
       "      <td>0</td>\n",
       "    </tr>\n",
       "    <tr>\n",
       "      <th>1</th>\n",
       "      <td>Maruti Wagon</td>\n",
       "      <td>2007</td>\n",
       "      <td>135000</td>\n",
       "      <td>50000</td>\n",
       "      <td>4</td>\n",
       "      <td>1</td>\n",
       "      <td>1</td>\n",
       "      <td>0</td>\n",
       "    </tr>\n",
       "    <tr>\n",
       "      <th>2</th>\n",
       "      <td>Hyundai Verna</td>\n",
       "      <td>2012</td>\n",
       "      <td>600000</td>\n",
       "      <td>100000</td>\n",
       "      <td>1</td>\n",
       "      <td>1</td>\n",
       "      <td>1</td>\n",
       "      <td>0</td>\n",
       "    </tr>\n",
       "    <tr>\n",
       "      <th>3</th>\n",
       "      <td>Datsun RediGO</td>\n",
       "      <td>2017</td>\n",
       "      <td>250000</td>\n",
       "      <td>46000</td>\n",
       "      <td>4</td>\n",
       "      <td>1</td>\n",
       "      <td>1</td>\n",
       "      <td>0</td>\n",
       "    </tr>\n",
       "    <tr>\n",
       "      <th>4</th>\n",
       "      <td>Honda Amaze</td>\n",
       "      <td>2014</td>\n",
       "      <td>450000</td>\n",
       "      <td>141000</td>\n",
       "      <td>1</td>\n",
       "      <td>1</td>\n",
       "      <td>1</td>\n",
       "      <td>2</td>\n",
       "    </tr>\n",
       "  </tbody>\n",
       "</table>\n",
       "</div>"
      ],
      "text/plain": [
       "            name  year  selling_price  km_driven  fuel  seller_type  \\\n",
       "0     Maruti 800  2007          60000      70000     4            1   \n",
       "1   Maruti Wagon  2007         135000      50000     4            1   \n",
       "2  Hyundai Verna  2012         600000     100000     1            1   \n",
       "3  Datsun RediGO  2017         250000      46000     4            1   \n",
       "4    Honda Amaze  2014         450000     141000     1            1   \n",
       "\n",
       "   transmission  owner  \n",
       "0             1      0  \n",
       "1             1      0  \n",
       "2             1      0  \n",
       "3             1      0  \n",
       "4             1      2  "
      ]
     },
     "execution_count": 23,
     "metadata": {},
     "output_type": "execute_result"
    }
   ],
   "source": [
    "df1.head(5)"
   ]
  },
  {
   "cell_type": "code",
   "execution_count": 24,
   "id": "e23a8e5d",
   "metadata": {},
   "outputs": [],
   "source": [
    "df1.to_csv('cleaned df1.csv')"
   ]
  },
  {
   "cell_type": "markdown",
   "id": "152d7a6c",
   "metadata": {},
   "source": [
    "### Model building"
   ]
  },
  {
   "cell_type": "code",
   "execution_count": 25,
   "id": "0ebe372a",
   "metadata": {},
   "outputs": [],
   "source": [
    "x = df1.drop(columns=['name','selling_price'])\n",
    "y = df1['selling_price']"
   ]
  },
  {
   "cell_type": "code",
   "execution_count": 26,
   "id": "0a704200",
   "metadata": {},
   "outputs": [
    {
     "name": "stdout",
     "output_type": "stream",
     "text": [
      "      year  km_driven  fuel  seller_type  transmission  owner\n",
      "0     2007      70000     4            1             1      0\n",
      "1     2007      50000     4            1             1      0\n",
      "2     2012     100000     1            1             1      0\n",
      "3     2017      46000     4            1             1      0\n",
      "4     2014     141000     1            1             1      2\n",
      "...    ...        ...   ...          ...           ...    ...\n",
      "4335  2014      80000     1            1             1      2\n",
      "4336  2014      80000     1            1             1      2\n",
      "4337  2009      83000     4            1             1      2\n",
      "4338  2016      90000     1            1             1      0\n",
      "4339  2016      40000     4            1             1      0\n",
      "\n",
      "[4340 rows x 6 columns]\n"
     ]
    }
   ],
   "source": [
    "print(x)"
   ]
  },
  {
   "cell_type": "code",
   "execution_count": 27,
   "id": "f6d31e3d",
   "metadata": {},
   "outputs": [],
   "source": [
    "# spliting the dataset into training and testing\n",
    "from sklearn.model_selection import train_test_split\n",
    "x_train,x_test,y_train,y_test = train_test_split(x,y,test_size=0.25,random_state=42)\n"
   ]
  },
  {
   "cell_type": "code",
   "execution_count": 28,
   "id": "fe1cd8fd",
   "metadata": {},
   "outputs": [],
   "source": [
    "# importing the liberaries\n",
    "from sklearn.linear_model import LinearRegression,Ridge,Lasso\n",
    "from sklearn.metrics import r2_score\n",
    "from sklearn.preprocessing import OneHotEncoder\n",
    "from sklearn.compose import make_column_transformer\n",
    "from sklearn.pipeline import make_pipeline\n",
    "from sklearn.metrics import mean_absolute_error\n",
    "from sklearn import metrics\n"
   ]
  },
  {
   "cell_type": "code",
   "execution_count": 29,
   "id": "31efb38b",
   "metadata": {},
   "outputs": [],
   "source": [
    "lr=LinearRegression()"
   ]
  },
  {
   "cell_type": "code",
   "execution_count": 30,
   "id": "11ddc141",
   "metadata": {},
   "outputs": [
    {
     "data": {
      "text/plain": [
       "LinearRegression()"
      ]
     },
     "execution_count": 30,
     "metadata": {},
     "output_type": "execute_result"
    }
   ],
   "source": [
    "lr.fit(x_train,y_train)"
   ]
  },
  {
   "cell_type": "code",
   "execution_count": 31,
   "id": "ce2c4a29",
   "metadata": {},
   "outputs": [],
   "source": [
    "# prediction on training data\n",
    "training_df1_prediction = lr.predict(x_train)"
   ]
  },
  {
   "cell_type": "code",
   "execution_count": 32,
   "id": "8bba4251",
   "metadata": {},
   "outputs": [
    {
     "name": "stdout",
     "output_type": "stream",
     "text": [
      "R squared Error: 0.45808284357848994\n"
     ]
    }
   ],
   "source": [
    "error_score = metrics.r2_score(y_train,training_df1_prediction)\n",
    "print('R squared Error:',error_score)"
   ]
  },
  {
   "cell_type": "code",
   "execution_count": 34,
   "id": "55fdad54",
   "metadata": {},
   "outputs": [
    {
     "data": {
      "image/png": "[encoded data removed]",
      "text/plain": [
       "<Figure size 432x288 with 1 Axes>"
      ]
     },
     "metadata": {
      "needs_background": "light"
     },
     "output_type": "display_data"
    }
   ],
   "source": [
    "plt.scatter(y_train,training_df1_prediction)\n",
    "plt.xlabel('Actual price')\n",
    "plt.ylabel('Predicted price')\n",
    "plt.title('Actual price vs Predicted price')\n",
    "plt.show()\n"
   ]
  },
  {
   "cell_type": "code",
   "execution_count": 35,
   "id": "3e100120",
   "metadata": {},
   "outputs": [
    {
     "name": "stdout",
     "output_type": "stream",
     "text": [
      "R squared Error 0.4162466077885604\n"
     ]
    }
   ],
   "source": [
    "# prediction on testing data\n",
    "testing_df1_prediction = lr.predict(x_test)\n",
    "error_score = metrics.r2_score(y_test,testing_df1_prediction)\n",
    "print('R squared Error',error_score)"
   ]
  },
  {
   "cell_type": "code",
   "execution_count": 36,
   "id": "210fdc56",
   "metadata": {},
   "outputs": [
    {
     "data": {
      "text/plain": [
       "Lasso()"
      ]
     },
     "execution_count": 36,
     "metadata": {},
     "output_type": "execute_result"
    }
   ],
   "source": [
    "Lass_rm = Lasso()\n",
    "Lass_rm.fit(x_train,y_train)"
   ]
  },
  {
   "cell_type": "code",
   "execution_count": 37,
   "id": "ed449f90",
   "metadata": {},
   "outputs": [
    {
     "name": "stdout",
     "output_type": "stream",
     "text": [
      "R Squared Error: 0.4580828435375973\n"
     ]
    }
   ],
   "source": [
    "training_df1_prediction = Lass_rm.predict(x_train)\n",
    "error_score = metrics.r2_score(y_train,training_df1_prediction)\n",
    "print('R Squared Error:',error_score)"
   ]
  },
  {
   "cell_type": "code",
   "execution_count": 38,
   "id": "2b259ed2",
   "metadata": {},
   "outputs": [
    {
     "name": "stdout",
     "output_type": "stream",
     "text": [
      "R Squared Error: 0.416247149469127\n"
     ]
    }
   ],
   "source": [
    "testing_df1_prediction = Lass_rm.predict(x_test)\n",
    "error_score = metrics.r2_score(y_test,testing_df1_prediction)\n",
    "print('R Squared Error:',error_score)"
   ]
  },
  {
   "cell_type": "code",
   "execution_count": 40,
   "id": "18542ee3",
   "metadata": {},
   "outputs": [],
   "source": [
    "# decision tree regressor\n",
    "from sklearn.tree import DecisionTreeRegressor"
   ]
  },
  {
   "cell_type": "code",
   "execution_count": 41,
   "id": "74930f45",
   "metadata": {},
   "outputs": [
    {
     "data": {
      "text/plain": [
       "DecisionTreeRegressor()"
      ]
     },
     "execution_count": 41,
     "metadata": {},
     "output_type": "execute_result"
    }
   ],
   "source": [
    "dtr = DecisionTreeRegressor()\n",
    "dtr.fit(x_train,y_train)"
   ]
  },
  {
   "cell_type": "code",
   "execution_count": 42,
   "id": "3675129a",
   "metadata": {},
   "outputs": [
    {
     "name": "stdout",
     "output_type": "stream",
     "text": [
      "R Squared Error: 0.4143981022132902\n"
     ]
    }
   ],
   "source": [
    "testing_df1_prediction = dtr.predict(x_test)\n",
    "error_score = metrics.r2_score(y_test,testing_df1_prediction)\n",
    "print('R Squared Error:',error_score)"
   ]
  },
  {
   "cell_type": "code",
   "execution_count": 43,
   "id": "6f403a48",
   "metadata": {},
   "outputs": [
    {
     "name": "stdout",
     "output_type": "stream",
     "text": [
      "R Squared Error: 0.9662741835829783\n"
     ]
    }
   ],
   "source": [
    "training_df1_prediction = dtr.predict(x_train)\n",
    "error_score = metrics.r2_score(y_train,training_df1_prediction)\n",
    "print('R Squared Error:',error_score)"
   ]
  },
  {
   "cell_type": "code",
   "execution_count": 44,
   "id": "b2a6437c",
   "metadata": {},
   "outputs": [
    {
     "data": {
      "image/png": "[encoded data removed]",
      "text/plain": [
       "<Figure size 432x288 with 1 Axes>"
      ]
     },
     "metadata": {
      "needs_background": "light"
     },
     "output_type": "display_data"
    }
   ],
   "source": [
    "plt.scatter(y_train,training_df1_prediction)\n",
    "plt.xlabel('Actual price')\n",
    "plt.ylabel('Predicted price')\n",
    "plt.title('Actual price vs Predicted price')\n",
    "plt.show()"
   ]
  },
  {
   "cell_type": "code",
   "execution_count": 45,
   "id": "e60fc14a",
   "metadata": {},
   "outputs": [],
   "source": [
    "from sklearn.ensemble import RandomForestRegressor"
   ]
  },
  {
   "cell_type": "code",
   "execution_count": 46,
   "id": "d425a7b5",
   "metadata": {},
   "outputs": [
    {
     "data": {
      "text/plain": [
       "RandomForestRegressor()"
      ]
     },
     "execution_count": 46,
     "metadata": {},
     "output_type": "execute_result"
    }
   ],
   "source": [
    "rfr = RandomForestRegressor()\n",
    "rfr.fit(x_train,y_train)"
   ]
  },
  {
   "cell_type": "code",
   "execution_count": 47,
   "id": "03f61fbb",
   "metadata": {},
   "outputs": [
    {
     "name": "stdout",
     "output_type": "stream",
     "text": [
      "R Squared Error: 0.5084008324569316\n"
     ]
    }
   ],
   "source": [
    "testing_df1_prediction = rfr.predict(x_test)\n",
    "error_score = metrics.r2_score(y_test,testing_df1_prediction)\n",
    "print('R Squared Error:',error_score)"
   ]
  },
  {
   "cell_type": "code",
   "execution_count": 48,
   "id": "2fb138a5",
   "metadata": {},
   "outputs": [
    {
     "data": {
      "image/png": "[encoded data removed]",
      "text/plain": [
       "<Figure size 432x288 with 1 Axes>"
      ]
     },
     "metadata": {
      "needs_background": "light"
     },
     "output_type": "display_data"
    }
   ],
   "source": [
    "plt.scatter(y_train,training_df1_prediction)\n",
    "plt.xlabel('Actual price')\n",
    "plt.ylabel('Predicted price')\n",
    "plt.title('Actual price vs Predicted price')\n",
    "plt.show()"
   ]
  },
  {
   "cell_type": "code",
   "execution_count": 49,
   "id": "f512ff65",
   "metadata": {},
   "outputs": [
    {
     "name": "stdout",
     "output_type": "stream",
     "text": [
      "R Squared Error: 0.9266699380081812\n"
     ]
    }
   ],
   "source": [
    "training_df1_prediction = rfr.predict(x_train)\n",
    "error_score = metrics.r2_score(y_train,training_df1_prediction)\n",
    "print('R Squared Error:',error_score)"
   ]
  },
  {
   "cell_type": "markdown",
   "id": "4b90b5b8",
   "metadata": {},
   "source": [
    "### Inference:- Based on R squared error decisiontreeregressor performs better as compared to other model."
   ]
  },
  {
   "cell_type": "code",
   "execution_count": 53,
   "id": "1cc2a522",
   "metadata": {},
   "outputs": [],
   "source": [
    "import pickle as pkl\n"
   ]
  },
  {
   "cell_type": "code",
   "execution_count": 55,
   "id": "42137a87",
   "metadata": {},
   "outputs": [],
   "source": [
    "pkl.dump(df,open('df.pkl','wb'))\n",
    "pkl.dump(df1,open('df1.pkl','wb'))\n",
    "pkl.dump(dtr,open('dtr.pkl','wb'))\n",
    "pkl.dump(rfr,open('rfr.pkl','wb'))\n",
    "pkl.dump(lr,open('lr.pkl','wb'))"
   ]
  },
  {
   "cell_type": "code",
   "execution_count": null,
   "id": "fc87cfec",
   "metadata": {},
   "outputs": [],
   "source": []
  }
 ],
 "metadata": {
  "kernelspec": {
   "display_name": "Python 3 (ipykernel)",
   "language": "python",
   "name": "python3"
  },
  "language_info": {
   "codemirror_mode": {
    "name": "ipython",
    "version": 3
   },
   "file_extension": ".py",
   "mimetype": "text/x-python",
   "name": "python",
   "nbconvert_exporter": "python",
   "pygments_lexer": "ipython3",
   "version": "3.9.12"
  }
 },
 "nbformat": 4,
 "nbformat_minor": 5
}
